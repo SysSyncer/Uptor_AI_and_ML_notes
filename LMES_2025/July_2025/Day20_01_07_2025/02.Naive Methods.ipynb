{
 "cells": [
  {
   "cell_type": "code",
   "metadata": {
    "ExecuteTime": {
     "end_time": "2025-07-01T18:17:21.855509Z",
     "start_time": "2025-07-01T18:17:21.851404Z"
    }
   },
   "source": [
    "import numpy as np"
   ],
   "outputs": [],
   "execution_count": 2
  },
  {
   "cell_type": "code",
   "metadata": {
    "ExecuteTime": {
     "end_time": "2025-07-01T18:17:22.912641Z",
     "start_time": "2025-07-01T18:17:22.909311Z"
    }
   },
   "source": [
    "import pandas as pd"
   ],
   "outputs": [],
   "execution_count": 3
  },
  {
   "cell_type": "code",
   "metadata": {
    "ExecuteTime": {
     "end_time": "2025-07-01T18:17:23.844671Z",
     "start_time": "2025-07-01T18:17:23.823806Z"
    }
   },
   "source": [
    "df = pd.read_csv(\"AirQualityUCI.csv\", sep = \";\", decimal = \",\")\n",
    "df = df.iloc[ : , 0:14]"
   ],
   "outputs": [],
   "execution_count": 4
  },
  {
   "cell_type": "code",
   "metadata": {
    "ExecuteTime": {
     "end_time": "2025-07-01T18:17:25.760849Z",
     "start_time": "2025-07-01T18:17:25.752526Z"
    }
   },
   "source": [
    "np.size(df)"
   ],
   "outputs": [
    {
     "data": {
      "text/plain": [
       "132594"
      ]
     },
     "execution_count": 5,
     "metadata": {},
     "output_type": "execute_result"
    }
   ],
   "execution_count": 5
  },
  {
   "cell_type": "code",
   "metadata": {
    "ExecuteTime": {
     "end_time": "2025-07-01T18:17:26.993022Z",
     "start_time": "2025-07-01T18:17:26.986151Z"
    }
   },
   "source": [
    "df = df[df['Date'].notnull()]"
   ],
   "outputs": [],
   "execution_count": 6
  },
  {
   "cell_type": "code",
   "metadata": {
    "ExecuteTime": {
     "end_time": "2025-07-01T18:17:28.787106Z",
     "start_time": "2025-07-01T18:17:28.781071Z"
    }
   },
   "source": [
    "np.size(df)"
   ],
   "outputs": [
    {
     "data": {
      "text/plain": [
       "130998"
      ]
     },
     "execution_count": 7,
     "metadata": {},
     "output_type": "execute_result"
    }
   ],
   "execution_count": 7
  },
  {
   "cell_type": "code",
   "metadata": {
    "ExecuteTime": {
     "end_time": "2025-07-01T18:17:30.306808Z",
     "start_time": "2025-07-01T18:17:30.296734Z"
    }
   },
   "source": [
    "df.isna().sum()"
   ],
   "outputs": [
    {
     "data": {
      "text/plain": [
       "Date             0\n",
       "Time             0\n",
       "CO(GT)           0\n",
       "PT08.S1(CO)      0\n",
       "NMHC(GT)         0\n",
       "C6H6(GT)         0\n",
       "PT08.S2(NMHC)    0\n",
       "NOx(GT)          0\n",
       "PT08.S3(NOx)     0\n",
       "NO2(GT)          0\n",
       "PT08.S4(NO2)     0\n",
       "PT08.S5(O3)      0\n",
       "T                0\n",
       "RH               0\n",
       "dtype: int64"
      ]
     },
     "execution_count": 8,
     "metadata": {},
     "output_type": "execute_result"
    }
   ],
   "execution_count": 8
  },
  {
   "cell_type": "code",
   "metadata": {
    "ExecuteTime": {
     "end_time": "2025-07-01T18:17:34.067333Z",
     "start_time": "2025-07-01T18:17:34.060453Z"
    }
   },
   "source": [
    "df['T']"
   ],
   "outputs": [
    {
     "data": {
      "text/plain": [
       "0       13.6\n",
       "1       13.3\n",
       "2       11.9\n",
       "3       11.0\n",
       "4       11.2\n",
       "        ... \n",
       "9352    21.9\n",
       "9353    24.3\n",
       "9354    26.9\n",
       "9355    28.3\n",
       "9356    28.5\n",
       "Name: T, Length: 9357, dtype: float64"
      ]
     },
     "execution_count": 9,
     "metadata": {},
     "output_type": "execute_result"
    }
   ],
   "execution_count": 9
  },
  {
   "cell_type": "code",
   "metadata": {
    "ExecuteTime": {
     "end_time": "2025-07-01T18:17:36.429690Z",
     "start_time": "2025-07-01T18:17:36.422838Z"
    }
   },
   "source": [
    "df['T_t-1'] = df['T'].shift(1)"
   ],
   "outputs": [],
   "execution_count": 10
  },
  {
   "cell_type": "code",
   "metadata": {
    "ExecuteTime": {
     "end_time": "2025-07-01T18:17:38.453438Z",
     "start_time": "2025-07-01T18:17:38.445613Z"
    }
   },
   "source": [
    "df['T_t-1']"
   ],
   "outputs": [
    {
     "data": {
      "text/plain": [
       "0        NaN\n",
       "1       13.6\n",
       "2       13.3\n",
       "3       11.9\n",
       "4       11.0\n",
       "        ... \n",
       "9352    18.2\n",
       "9353    21.9\n",
       "9354    24.3\n",
       "9355    26.9\n",
       "9356    28.3\n",
       "Name: T_t-1, Length: 9357, dtype: float64"
      ]
     },
     "execution_count": 11,
     "metadata": {},
     "output_type": "execute_result"
    }
   ],
   "execution_count": 11
  },
  {
   "cell_type": "code",
   "metadata": {
    "ExecuteTime": {
     "end_time": "2025-07-01T18:17:39.879171Z",
     "start_time": "2025-07-01T18:17:39.872623Z"
    }
   },
   "source": [
    "df_naive = df[['T','T_t-1']][1:]"
   ],
   "outputs": [],
   "execution_count": 12
  },
  {
   "cell_type": "code",
   "metadata": {
    "ExecuteTime": {
     "end_time": "2025-07-01T18:17:40.708013Z",
     "start_time": "2025-07-01T18:17:40.698221Z"
    }
   },
   "source": [
    "df_naive"
   ],
   "outputs": [
    {
     "data": {
      "text/plain": [
       "         T  T_t-1\n",
       "1     13.3   13.6\n",
       "2     11.9   13.3\n",
       "3     11.0   11.9\n",
       "4     11.2   11.0\n",
       "5     11.2   11.2\n",
       "...    ...    ...\n",
       "9352  21.9   18.2\n",
       "9353  24.3   21.9\n",
       "9354  26.9   24.3\n",
       "9355  28.3   26.9\n",
       "9356  28.5   28.3\n",
       "\n",
       "[9356 rows x 2 columns]"
      ],
      "text/html": [
       "<div>\n",
       "<style scoped>\n",
       "    .dataframe tbody tr th:only-of-type {\n",
       "        vertical-align: middle;\n",
       "    }\n",
       "\n",
       "    .dataframe tbody tr th {\n",
       "        vertical-align: top;\n",
       "    }\n",
       "\n",
       "    .dataframe thead th {\n",
       "        text-align: right;\n",
       "    }\n",
       "</style>\n",
       "<table border=\"1\" class=\"dataframe\">\n",
       "  <thead>\n",
       "    <tr style=\"text-align: right;\">\n",
       "      <th></th>\n",
       "      <th>T</th>\n",
       "      <th>T_t-1</th>\n",
       "    </tr>\n",
       "  </thead>\n",
       "  <tbody>\n",
       "    <tr>\n",
       "      <th>1</th>\n",
       "      <td>13.3</td>\n",
       "      <td>13.6</td>\n",
       "    </tr>\n",
       "    <tr>\n",
       "      <th>2</th>\n",
       "      <td>11.9</td>\n",
       "      <td>13.3</td>\n",
       "    </tr>\n",
       "    <tr>\n",
       "      <th>3</th>\n",
       "      <td>11.0</td>\n",
       "      <td>11.9</td>\n",
       "    </tr>\n",
       "    <tr>\n",
       "      <th>4</th>\n",
       "      <td>11.2</td>\n",
       "      <td>11.0</td>\n",
       "    </tr>\n",
       "    <tr>\n",
       "      <th>5</th>\n",
       "      <td>11.2</td>\n",
       "      <td>11.2</td>\n",
       "    </tr>\n",
       "    <tr>\n",
       "      <th>...</th>\n",
       "      <td>...</td>\n",
       "      <td>...</td>\n",
       "    </tr>\n",
       "    <tr>\n",
       "      <th>9352</th>\n",
       "      <td>21.9</td>\n",
       "      <td>18.2</td>\n",
       "    </tr>\n",
       "    <tr>\n",
       "      <th>9353</th>\n",
       "      <td>24.3</td>\n",
       "      <td>21.9</td>\n",
       "    </tr>\n",
       "    <tr>\n",
       "      <th>9354</th>\n",
       "      <td>26.9</td>\n",
       "      <td>24.3</td>\n",
       "    </tr>\n",
       "    <tr>\n",
       "      <th>9355</th>\n",
       "      <td>28.3</td>\n",
       "      <td>26.9</td>\n",
       "    </tr>\n",
       "    <tr>\n",
       "      <th>9356</th>\n",
       "      <td>28.5</td>\n",
       "      <td>28.3</td>\n",
       "    </tr>\n",
       "  </tbody>\n",
       "</table>\n",
       "<p>9356 rows × 2 columns</p>\n",
       "</div>"
      ]
     },
     "execution_count": 13,
     "metadata": {},
     "output_type": "execute_result"
    }
   ],
   "execution_count": 13
  },
  {
   "cell_type": "code",
   "metadata": {
    "ExecuteTime": {
     "end_time": "2025-07-01T18:17:43.206749Z",
     "start_time": "2025-07-01T18:17:43.202604Z"
    }
   },
   "source": [
    "from sklearn import metrics\n",
    "from math import sqrt"
   ],
   "outputs": [],
   "execution_count": 15
  },
  {
   "cell_type": "code",
   "metadata": {
    "ExecuteTime": {
     "end_time": "2025-07-01T18:17:44.058568Z",
     "start_time": "2025-07-01T18:17:44.054788Z"
    }
   },
   "source": [
    "true = df_naive['T']"
   ],
   "outputs": [],
   "execution_count": 16
  },
  {
   "cell_type": "code",
   "metadata": {
    "ExecuteTime": {
     "end_time": "2025-07-01T18:17:44.768436Z",
     "start_time": "2025-07-01T18:17:44.763262Z"
    }
   },
   "source": [
    "prediction = df_naive['T_t-1']"
   ],
   "outputs": [],
   "execution_count": 17
  },
  {
   "cell_type": "code",
   "metadata": {
    "ExecuteTime": {
     "end_time": "2025-07-01T18:17:45.869597Z",
     "start_time": "2025-07-01T18:17:45.863292Z"
    }
   },
   "source": [
    "error = sqrt(metrics.mean_squared_error(true,prediction))"
   ],
   "outputs": [],
   "execution_count": 18
  },
  {
   "cell_type": "code",
   "metadata": {
    "ExecuteTime": {
     "end_time": "2025-07-01T18:17:49.767906Z",
     "start_time": "2025-07-01T18:17:49.762441Z"
    }
   },
   "source": [
    "error"
   ],
   "outputs": [
    {
     "data": {
      "text/plain": [
       "12.901140576492974"
      ]
     },
     "execution_count": 19,
     "metadata": {},
     "output_type": "execute_result"
    }
   ],
   "execution_count": 19
  },
  {
   "cell_type": "code",
   "execution_count": 18,
   "metadata": {},
   "outputs": [
    {
     "name": "stdout",
     "output_type": "stream",
     "text": [
      "RMSE for Naive Method 2:  12.901140576492974\n"
     ]
    }
   ],
   "source": [
    "print ('RMSE for Naive Method 2: ', error)"
   ]
  }
 ],
 "metadata": {
  "kernelspec": {
   "display_name": "Python 3",
   "language": "python",
   "name": "python3"
  },
  "language_info": {
   "codemirror_mode": {
    "name": "ipython",
    "version": 3
   },
   "file_extension": ".py",
   "mimetype": "text/x-python",
   "name": "python",
   "nbconvert_exporter": "python",
   "pygments_lexer": "ipython3",
   "version": "3.7.3"
  }
 },
 "nbformat": 4,
 "nbformat_minor": 2
}
